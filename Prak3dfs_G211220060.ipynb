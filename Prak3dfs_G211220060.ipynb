{
  "nbformat": 4,
  "nbformat_minor": 0,
  "metadata": {
    "colab": {
      "provenance": []
    },
    "kernelspec": {
      "name": "python3",
      "display_name": "Python 3"
    },
    "language_info": {
      "name": "python"
    }
  },
  "cells": [
    {
      "cell_type": "code",
      "execution_count": 3,
      "metadata": {
        "colab": {
          "base_uri": "https://localhost:8080/"
        },
        "id": "6dCidgE-JnnP",
        "outputId": "80d65038-0aad-420a-867a-bab56852dfe8"
      },
      "outputs": [
        {
          "output_type": "stream",
          "name": "stdout",
          "text": [
            "Masukkan awal:A\n",
            "Masukkan akhir:K\n",
            "['A', 'B', 'C', 'D', 'H', 'L', 'K']\n"
          ]
        }
      ],
      "source": [
        "peta = {\n",
        "    'A':set(['B']),\n",
        "    'B':set(['C', 'A']),\n",
        "    'C':set(['H', 'B', 'I','D']),\n",
        "    'D':set(['C', 'E', 'H','F']),\n",
        "    'E':set(['D']),\n",
        "    'F':set(['D', 'G']),\n",
        "    'G':set(['F','H']),\n",
        "    'H':set(['L', 'C', 'G','D']),\n",
        "    'I':set(['C', 'J', 'K']),\n",
        "    'J':set(['I']),\n",
        "    'K':set(['L','I']),\n",
        "    'L':set(['K','H']),\n",
        "}\n",
        "\n",
        "def dfs(graph, mulai, goal):\n",
        "    explored = []\n",
        "    stack = [[mulai]]\n",
        "\n",
        "    if mulai == goal:\n",
        "        return \"Awal adalah Tujuan\"\n",
        "\n",
        "    while stack:\n",
        "        jalur = stack.pop()\n",
        "        node = jalur[-1]\n",
        "        if node not in explored:\n",
        "            neighbours = graph.get(node, set())\n",
        "\n",
        "            for neighbour in neighbours:\n",
        "                jalur_baru = list(jalur)\n",
        "                jalur_baru.append(neighbour)\n",
        "                stack.append(jalur_baru)\n",
        "\n",
        "                if neighbour == goal:\n",
        "                    return jalur_baru\n",
        "\n",
        "            explored.append(node)\n",
        "\n",
        "    return \"Mohon maaf node yang kalian pilih tidak ada\"\n",
        "\n",
        "awal = input(\"Masukkan awal:\")\n",
        "tujuan = input(\"Masukkan akhir:\")\n",
        "\n",
        "print(dfs(peta, awal, tujuan))\n"
      ]
    }
  ]
}